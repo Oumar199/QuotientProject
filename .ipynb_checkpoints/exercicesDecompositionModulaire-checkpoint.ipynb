{
 "cells": [
  {
   "cell_type": "markdown",
   "metadata": {
    "id": "UAapXsivt0w1"
   },
   "source": [
    "# Décomposition fonctionnelle"
   ]
  },
  {
   "cell_type": "markdown",
   "metadata": {
    "id": "1MEW3_dOuc1Z"
   },
   "source": [
    "Ecrivons un programme modulaire qui permet de calculer l'expression suivante : Q = (x^n)/n!"
   ]
  },
  {
   "cell_type": "code",
   "execution_count": 2,
   "metadata": {
    "id": "0-NWmARHqYy1"
   },
   "outputs": [],
   "source": [
    "#importons la fonction saisie\n",
    "from Saisie import Saisie \n",
    "#importons la fonction factoriel\n",
    "from factoriel import fact\n",
    "#importons la fonction puissance\n",
    "from Puissance import puissance \n",
    "#importons la fonction quotient\n",
    "from division import division\n",
    "#Importons la fonction affichage\n",
    "from affichage import affichage"
   ]
  },
  {
   "cell_type": "markdown",
   "metadata": {},
   "source": [
    "D'abord recupérons les deux entiers et faisons un deuxieme controle de saisie (le premier controle de saisie c'est avec la boucle while dans la fonction Saisie"
   ]
  },
  {
   "cell_type": "code",
   "execution_count": 3,
   "metadata": {},
   "outputs": [
    {
     "name": "stdout",
     "output_type": "stream",
     "text": [
      "saisir le nombre que vous devez élever en puissance\n",
      "\n",
      "\t\t6\n",
      "saisir le nombre entier qui représente la puissance\n",
      "\n",
      "\t\t5\n"
     ]
    }
   ],
   "source": [
    "s = Saisie()\n",
    "if int(s[0]) > 0:\n",
    "    n = int(s[0]) \n",
    "else:\n",
    "    raise ValueError(\"La valeur de la variable n doit etre positive !\") \n",
    "x = int(s[1])"
   ]
  },
  {
   "cell_type": "markdown",
   "metadata": {},
   "source": [
    "Calculons directement le resultat final"
   ]
  },
  {
   "cell_type": "code",
   "execution_count": 4,
   "metadata": {},
   "outputs": [],
   "source": [
    "q = division(puissance(x, n), fact(n))"
   ]
  },
  {
   "cell_type": "markdown",
   "metadata": {},
   "source": [
    "Affichons le resultat"
   ]
  },
  {
   "cell_type": "code",
   "execution_count": 6,
   "metadata": {},
   "outputs": [
    {
     "name": "stdout",
     "output_type": "stream",
     "text": [
      "Le resultat de (5^6)/6! est : 21.70138888888889\n"
     ]
    }
   ],
   "source": [
    "affichage(q, n, x)"
   ]
  },
  {
   "cell_type": "code",
   "execution_count": null,
   "metadata": {},
   "outputs": [],
   "source": []
  }
 ],
 "metadata": {
  "colab": {
   "authorship_tag": "ABX9TyMJHtKVjAzymhkYDYdiupiA",
   "collapsed_sections": [],
   "name": "exercicesDecompositionModulaire.ipynb",
   "provenance": []
  },
  "kernelspec": {
   "display_name": "Python 3",
   "language": "python",
   "name": "python3"
  },
  "language_info": {
   "codemirror_mode": {
    "name": "ipython",
    "version": 3
   },
   "file_extension": ".py",
   "mimetype": "text/x-python",
   "name": "python",
   "nbconvert_exporter": "python",
   "pygments_lexer": "ipython3",
   "version": "3.7.6"
  }
 },
 "nbformat": 4,
 "nbformat_minor": 4
}
