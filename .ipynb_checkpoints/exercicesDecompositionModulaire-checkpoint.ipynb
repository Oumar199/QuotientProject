{
 "cells": [
  {
   "cell_type": "markdown",
   "metadata": {
    "id": "UAapXsivt0w1"
   },
   "source": [
    "# Décomposition fonctionnelle"
   ]
  },
  {
   "cell_type": "markdown",
   "metadata": {
    "id": "1MEW3_dOuc1Z"
   },
   "source": [
    "Ecrivons un programme modulaire qui permet de calculer l'expression suivante : Q = (x^n)/n!"
   ]
  },
  {
   "cell_type": "code",
   "execution_count": 1,
   "metadata": {
    "id": "0-NWmARHqYy1"
   },
   "outputs": [
    {
     "ename": "ImportError",
     "evalue": "cannot import name 'factoriel' from 'factoriel' (C:\\Users\\Oumar Kane\\Documents\\github\\QuotientProject\\factoriel.py)",
     "output_type": "error",
     "traceback": [
      "\u001b[1;31m---------------------------------------------------------------------------\u001b[0m",
      "\u001b[1;31mImportError\u001b[0m                               Traceback (most recent call last)",
      "\u001b[1;32m<ipython-input-1-31788de1e9fb>\u001b[0m in \u001b[0;36m<module>\u001b[1;34m\u001b[0m\n\u001b[0;32m      2\u001b[0m \u001b[1;32mfrom\u001b[0m \u001b[0mSaisie\u001b[0m \u001b[1;32mimport\u001b[0m \u001b[0mSaisie\u001b[0m\u001b[1;33m\u001b[0m\u001b[1;33m\u001b[0m\u001b[0m\n\u001b[0;32m      3\u001b[0m \u001b[1;31m#importons la fonction factoriel\u001b[0m\u001b[1;33m\u001b[0m\u001b[1;33m\u001b[0m\u001b[1;33m\u001b[0m\u001b[0m\n\u001b[1;32m----> 4\u001b[1;33m \u001b[1;32mfrom\u001b[0m \u001b[0mfactoriel\u001b[0m \u001b[1;32mimport\u001b[0m \u001b[0mfactoriel\u001b[0m\u001b[1;33m\u001b[0m\u001b[1;33m\u001b[0m\u001b[0m\n\u001b[0m\u001b[0;32m      5\u001b[0m \u001b[1;31m#importons la fonction puissance\u001b[0m\u001b[1;33m\u001b[0m\u001b[1;33m\u001b[0m\u001b[1;33m\u001b[0m\u001b[0m\n\u001b[0;32m      6\u001b[0m \u001b[1;32mfrom\u001b[0m \u001b[0mPuissance\u001b[0m \u001b[1;32mimport\u001b[0m \u001b[0mpuissance\u001b[0m\u001b[1;33m\u001b[0m\u001b[1;33m\u001b[0m\u001b[0m\n",
      "\u001b[1;31mImportError\u001b[0m: cannot import name 'factoriel' from 'factoriel' (C:\\Users\\Oumar Kane\\Documents\\github\\QuotientProject\\factoriel.py)"
     ]
    }
   ],
   "source": [
    "#importons la fonction saisie\n",
    "from Saisie import Saisie \n",
    "#importons la fonction factoriel\n",
    "from factoriel import fact\n",
    "#importons la fonction puissance\n",
    "from Puissance import puissance \n",
    "#importons la fonction quotient\n",
    "from division import division\n",
    "#Importons la fonction affichage\n",
    "from affichage import affichage"
   ]
  },
  {
   "cell_type": "markdown",
   "metadata": {},
   "source": [
    "D'abord recupérons les deux entiers et faisons un deuxieme controle de saisie (le premier controle de saisie c'est avec la boucle while dans la fonction Saisie"
   ]
  },
  {
   "cell_type": "code",
   "execution_count": 8,
   "metadata": {},
   "outputs": [
    {
     "name": "stdout",
     "output_type": "stream",
     "text": [
      "Selon la formule suivante : Q = x^n/n!\n"
     ]
    },
    {
     "name": "stdin",
     "output_type": "stream",
     "text": [
      "Donner l'entier n de la formule -10\n",
      "Donner l'entier x de la formule 9\n"
     ]
    },
    {
     "ename": "ValueError",
     "evalue": "La valeur de la variable n doit etre positive !",
     "output_type": "error",
     "traceback": [
      "\u001b[1;31m---------------------------------------------------------------------------\u001b[0m",
      "\u001b[1;31mValueError\u001b[0m                                Traceback (most recent call last)",
      "\u001b[1;32m<ipython-input-8-24292964040b>\u001b[0m in \u001b[0;36m<module>\u001b[1;34m\u001b[0m\n\u001b[0;32m      3\u001b[0m     \u001b[0mn\u001b[0m \u001b[1;33m=\u001b[0m \u001b[0mint\u001b[0m\u001b[1;33m(\u001b[0m\u001b[0ms\u001b[0m\u001b[1;33m[\u001b[0m\u001b[1;36m0\u001b[0m\u001b[1;33m]\u001b[0m\u001b[1;33m)\u001b[0m\u001b[1;33m\u001b[0m\u001b[1;33m\u001b[0m\u001b[0m\n\u001b[0;32m      4\u001b[0m \u001b[1;32melse\u001b[0m\u001b[1;33m:\u001b[0m\u001b[1;33m\u001b[0m\u001b[1;33m\u001b[0m\u001b[0m\n\u001b[1;32m----> 5\u001b[1;33m     \u001b[1;32mraise\u001b[0m \u001b[0mValueError\u001b[0m\u001b[1;33m(\u001b[0m\u001b[1;34m\"La valeur de la variable n doit etre positive !\"\u001b[0m\u001b[1;33m)\u001b[0m\u001b[1;33m\u001b[0m\u001b[1;33m\u001b[0m\u001b[0m\n\u001b[0m\u001b[0;32m      6\u001b[0m \u001b[0mx\u001b[0m \u001b[1;33m=\u001b[0m \u001b[0mint\u001b[0m\u001b[1;33m(\u001b[0m\u001b[0ms\u001b[0m\u001b[1;33m[\u001b[0m\u001b[1;36m1\u001b[0m\u001b[1;33m]\u001b[0m\u001b[1;33m)\u001b[0m\u001b[1;33m\u001b[0m\u001b[1;33m\u001b[0m\u001b[0m\n",
      "\u001b[1;31mValueError\u001b[0m: La valeur de la variable n doit etre positive !"
     ]
    }
   ],
   "source": [
    "s = Saisie()\n",
    "if int(s[0]) > 0:\n",
    "    n = int(s[0]) \n",
    "else:\n",
    "    raise ValueError(\"La valeur de la variable n doit etre positive !\") \n",
    "x = int(s[1])"
   ]
  },
  {
   "cell_type": "markdown",
   "metadata": {},
   "source": [
    "Calculons directement le resultat final"
   ]
  },
  {
   "cell_type": "code",
   "execution_count": 6,
   "metadata": {},
   "outputs": [],
   "source": [
    "q = division(puissance(x, n), fact(n))"
   ]
  },
  {
   "cell_type": "markdown",
   "metadata": {},
   "source": [
    "Affichons le resultat"
   ]
  },
  {
   "cell_type": "code",
   "execution_count": 7,
   "metadata": {},
   "outputs": [
    {
     "name": "stdout",
     "output_type": "stream",
     "text": [
      "Le résultat du calcul obtenu de l'expression Q = 9^8/8! est 1067.63\n"
     ]
    }
   ],
   "source": [
    "affichage(n, x, q)"
   ]
  },
  {
   "cell_type": "code",
   "execution_count": null,
   "metadata": {},
   "outputs": [],
   "source": []
  }
 ],
 "metadata": {
  "colab": {
   "authorship_tag": "ABX9TyMJHtKVjAzymhkYDYdiupiA",
   "collapsed_sections": [],
   "name": "exercicesDecompositionModulaire.ipynb",
   "provenance": []
  },
  "kernelspec": {
   "display_name": "Python 3",
   "language": "python",
   "name": "python3"
  },
  "language_info": {
   "codemirror_mode": {
    "name": "ipython",
    "version": 3
   },
   "file_extension": ".py",
   "mimetype": "text/x-python",
   "name": "python",
   "nbconvert_exporter": "python",
   "pygments_lexer": "ipython3",
   "version": "3.7.6"
  }
 },
 "nbformat": 4,
 "nbformat_minor": 4
}
